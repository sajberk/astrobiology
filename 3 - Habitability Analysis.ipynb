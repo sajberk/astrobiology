{
 "cells": [
  {
   "cell_type": "markdown",
   "id": "024305b0",
   "metadata": {},
   "source": [
    "# Procena habitabilnosti egzoplaneta korišćenjem dobijenih rezultata"
   ]
  },
  {
   "cell_type": "markdown",
   "id": "8bca9a49",
   "metadata": {},
   "source": [
    "U ovom notebooku ćemo pomoću formula i kriterijuma iz knjige Astrobiology by Longstaff odrediti da li su planete koje smo do sada analizirale podobne za održavanje života kakav poznajemo. Koristićemo vrednosti koje smo dobili iz prethodnih notebookova, zajedno sa drugim vrednostima koje će biti preuzete sa interneta."
   ]
  },
  {
   "cell_type": "code",
   "execution_count": 14,
   "id": "54b375b2",
   "metadata": {},
   "outputs": [
    {
     "name": "stdout",
     "output_type": "stream",
     "text": [
      "Početne vrednosti:\n",
      "Iz fitovane dubine tranzita, dobijen je odnos radijusa (Rp/R*): 0.128, a pomoću poznatog radijusa zvezde je dobijen i radijus planete (Rp): 1.51 jupiterRad\n",
      "Iz fitovanja krive radijalne brzine imamo mase: K2-24b: 19.05 m zemlje, K2-24c: 19.05 m zemlje\n",
      "Ostali podaci su preuzeti sa interneta.\n"
     ]
    }
   ],
   "source": [
    "import numpy as np\n",
    "import astropy.units as u\n",
    "import astropy.constants as const\n",
    "\n",
    "# Odnos radijusa planete i zvezde (Rp/R*) za WASP-18 b\n",
    "# Dobijen fitovanjem svetlosne krive metodom tranzita\n",
    "WASP18b_Rp_Rs = 0.128\n",
    "\n",
    "# Minimalne mase (Mp*sin(i)) u masama Zemlje za planete u sistemu K2-24\n",
    "# Dobijene fitovanjem krive radijalne brzine\n",
    "K224b_Mass_ME = 19.05\n",
    "K224c_Mass_ME = 16.42\n",
    "\n",
    "print(\"Početne vrednosti:\")\n",
    "R_star_wasp = 1.21 * u.R_sun\n",
    "Rp_wasp = WASP18b_Rp_Rs * R_star_wasp\n",
    "\n",
    "print(f\"Iz fitovane dubine tranzita, dobijen je odnos radijusa (Rp/R*): {WASP18b_Rp_Rs:.3f}, a pomoću poznatog radijusa zvezde je dobijen i radijus planete (Rp): {Rp_wasp.to(u.R_jup):.2f}\")\n",
    "print(f\"Iz fitovanja krive radijalne brzine imamo mase: K2-24b: {K224b_Mass_ME:.2f} m zemlje, K2-24c: {K224b_Mass_ME:.2f} m zemlje\")\n",
    "print(f\"Ostali podaci su preuzeti sa interneta.\")"
   ]
  },
  {
   "cell_type": "markdown",
   "id": "c3656792",
   "metadata": {},
   "source": [
    "Za Planete Zemlju, WASP-18 b, K2-24b i K2-24c ćemo izneti i protumačiti par osnovnih kriterijuma: gustinu, udaljenost od zvezde i efektivnu temperaturu:"
   ]
  },
  {
   "cell_type": "code",
   "execution_count": 15,
   "id": "de923861",
   "metadata": {},
   "outputs": [
    {
     "name": "stdout",
     "output_type": "stream",
     "text": [
      "\n",
      "Planeta Zemlje:\n",
      "    Gustina: 5.51 g / cm3\n",
      "    Efektivna temperatura: 255 K\n",
      "Zaključak: Habitabilna.\n",
      "\n",
      "Planeta WASP-18 b:\n",
      "    Gustina: 3.77 g / cm3. Gustina je tipična za gasovite džinove.\n",
      "    Udaljenost od zvezde: 0.020 AU\n",
      "    Efektivna temperatura: 2395 K\n",
      "Zaključak: Kao gasoviti džin sa temperaturom preko 2400°C, WASP-18 b nije habitabilna. Ovo je 'Vreli Jupiter'.\n",
      "\n",
      "Planeta K2-24 b:\n",
      "    Gustina: 0.66 g / cm3 (Gasovita)\n",
      "    Udaljenost: 0.152 AU\n",
      "    Efektivna temperatura: 750 K\n",
      "Planeta K2-24 c:\n",
      "    Gustina: 0.21 g / cm3 (Gasovita)\n",
      "    Udaljenost: 0.243 AU\n",
      "    Efektivna temperatura: 592 K\n",
      "Zaključak: Obe planete su gasoviti 'Topli Neptuni', previše vruće i bez čvrste površine. Nisu habitabilne.\n"
     ]
    }
   ],
   "source": [
    "\n",
    "print(\"\\nPlaneta Zemlje:\")\n",
    "print(f\"    Gustina: {5.51 * u.g/u.cm**3:.2f}\")\n",
    "print(f\"    Efektivna temperatura: 255 K\")\n",
    "print(\"Zaključak: Habitabilna.\")\n",
    "\n",
    "# WASP-18 b\n",
    "print(\"\\nPlaneta WASP-18 b:\")\n",
    "\n",
    "# Poznati parametri\n",
    "M_p_wasp = 10.4 * u.M_jup\n",
    "P_wasp = 0.94145 * u.day\n",
    "M_star_wasp = 1.22 * u.M_sun\n",
    "T_star_wasp = 6400 * u.K\n",
    "\n",
    "# Gustina\n",
    "Vp_wasp = (4/3) * np.pi * Rp_wasp**3\n",
    "Density_wasp = M_p_wasp / Vp_wasp\n",
    "print(f\"    Gustina: {Density_wasp.to(u.g/u.cm**3):.2f}. Gustina je tipična za gasovite džinove.\")\n",
    "\n",
    "# Udaljenost\n",
    "a_wasp = ((const.G * M_star_wasp * P_wasp**2) / (4 * np.pi**2))**(1/3)\n",
    "print(f\"    Udaljenost od zvezde: {a_wasp.to(u.AU):.3f}\")\n",
    "\n",
    "# Temperatura\n",
    "Teq_wasp = (T_star_wasp * (R_star_wasp / (2 * a_wasp))**0.5).to(u.K)\n",
    "print(f\"    Efektivna temperatura: {Teq_wasp:.0f}\")\n",
    "\n",
    "print(f\"Zaključak: Kao gasoviti džin sa temperaturom preko 2400°C, WASP-18 b nije habitabilna. Ovo je 'Vreli Jupiter'.\")\n",
    "\n",
    "# K2-24\n",
    "\n",
    "# Poznati parametri\n",
    "M_star_k2 = 1.07 * u.M_sun\n",
    "R_star_k2 = 1.16 * u.R_sun\n",
    "T_star_k2 = 5625 * u.K\n",
    "P_k2b, P_k2c = 20.8851 * u.day, 42.3633 * u.day\n",
    "Mp_k2b, Mp_k2c = K224b_Mass_ME * u.M_earth, K224c_Mass_ME * u.M_earth\n",
    "Rp_k2b, Rp_k2c = 5.4 * u.R_earth, 7.5 * u.R_earth\n",
    "\n",
    "# K2-24 b\n",
    "Vp_k2b = (4/3) * np.pi * Rp_k2b**3\n",
    "Density_k2b = Mp_k2b / Vp_k2b\n",
    "a_k2b = ((const.G * M_star_k2 * P_k2b**2) / (4 * np.pi**2))**(1/3)\n",
    "Teq_k2b = (T_star_k2 * (R_star_k2 / (2 * a_k2b))**0.5).to(u.K)\n",
    "\n",
    "print(\"\\nPlaneta K2-24 b:\")\n",
    "print(f\"    Gustina: {Density_k2b.to(u.g/u.cm**3):.2f} (Gasovita)\")\n",
    "print(f\"    Udaljenost: {a_k2b.to(u.AU):.3f}\")\n",
    "print(f\"    Efektivna temperatura: {Teq_k2b:.0f}\")\n",
    "\n",
    "# K2-24 c\n",
    "Vp_k2c = (4/3) * np.pi * Rp_k2c**3\n",
    "Density_k2c = Mp_k2c / Vp_k2c\n",
    "a_k2c = ((const.G * M_star_k2 * P_k2c**2) / (4 * np.pi**2))**(1/3)\n",
    "Teq_k2c = (T_star_k2 * (R_star_k2 / (2 * a_k2c))**0.5).to(u.K)\n",
    "\n",
    "print(\"Planeta K2-24 c:\")\n",
    "print(f\"    Gustina: {Density_k2c.to(u.g/u.cm**3):.2f} (Gasovita)\")\n",
    "print(f\"    Udaljenost: {a_k2c.to(u.AU):.3f}\")\n",
    "print(f\"    Efektivna temperatura: {Teq_k2c:.0f}\")\n",
    "\n",
    "print(\"Zaključak: Obe planete su gasoviti 'Topli Neptuni', previše vruće i bez čvrste površine. Nisu habitabilne.\")"
   ]
  },
  {
   "cell_type": "markdown",
   "id": "27d8ccfd",
   "metadata": {},
   "source": [
    "Sada ćemo se osvrnuti i na definiciju Zvezdane habitabilne zone (Habitable Zone), i za svaku od planeta proveriti da li se ona nalazi u HZ svoje zvezde. "
   ]
  },
  {
   "cell_type": "code",
   "execution_count": 16,
   "id": "7bdb9645",
   "metadata": {},
   "outputs": [
    {
     "name": "stdout",
     "output_type": "stream",
     "text": [
      "Da li je neka od ovih planeta u habitabilnoj zoni svoje zvezde?\n",
      "\n",
      "Optimistična HZ za WASP-18: 1.11 - 2.63 AU\n",
      "Konzervativna HZ za WASP-18: 1.47 - 2.52 AU\n",
      " - WASP-18 b na 0.020 AU nije ni u jednoj HZ.\n",
      "\n",
      "Optimistična HZ za K2-24: 0.82 - 1.95 AU\n",
      "Konzervativna HZ za K2-24: 1.09 - 1.87 AU\n",
      " - K2-24 b na 0.152 AU nije ni u jednoj HZ.\n",
      " - K2-24 c na 0.243 AU nije ni u jednoj HZ.\n"
     ]
    }
   ],
   "source": [
    "print(\"Da li je neka od ovih planeta u habitabilnoj zoni svoje zvezde?\")\n",
    "\n",
    "# HZ - dve definicije\n",
    "def calculate_optimistic_hz(L_star_Lsun):\n",
    "    \"\"\"Procenjuje granice 'optimistične' HZ\"\"\"\n",
    "    # Granice za Sunce: 0.75 AU (Recent Venus) - 1.77 AU (Early Mars).\n",
    "    inner_au = 0.75 * np.sqrt(L_star_Lsun)\n",
    "    outer_au = 1.77 * np.sqrt(L_star_Lsun)\n",
    "    return inner_au, outer_au\n",
    "\n",
    "def calculate_conservative_hz(L_star_Lsun):\n",
    "    \"\"\"Procenjuje granice 'konzervativne' HZ\"\"\"\n",
    "    # Granice za Sunce: 0.99 AU (Moist Greenhouse) - 1.70 AU (Max Greenhouse).\n",
    "    inner_au = 0.99 * np.sqrt(L_star_Lsun)\n",
    "    outer_au = 1.70 * np.sqrt(L_star_Lsun)\n",
    "    return inner_au, outer_au\n",
    "\n",
    "# Luminoznost\n",
    "L_wasp = (R_star_wasp.to(u.R_sun).value)**2 * (T_star_wasp.to(u.K).value / 5778)**4\n",
    "L_k2 = (R_star_k2.to(u.R_sun).value)**2 * (T_star_k2.to(u.K).value / 5778)**4\n",
    "\n",
    "hz_opt_wasp = calculate_optimistic_hz(L_wasp)\n",
    "hz_con_wasp = calculate_conservative_hz(L_wasp)\n",
    "hz_opt_k2 = calculate_optimistic_hz(L_k2)\n",
    "hz_con_k2 = calculate_conservative_hz(L_k2)\n",
    "\n",
    "print(f\"\\nOptimistična HZ za WASP-18: {hz_opt_wasp[0]:.2f} - {hz_opt_wasp[1]:.2f} AU\")\n",
    "print(f\"Konzervativna HZ za WASP-18: {hz_con_wasp[0]:.2f} - {hz_con_wasp[1]:.2f} AU\")\n",
    "print(f\" - WASP-18 b na {a_wasp.to(u.AU):.3f} nije ni u jednoj HZ.\")\n",
    "\n",
    "print(f\"\\nOptimistična HZ za K2-24: {hz_opt_k2[0]:.2f} - {hz_opt_k2[1]:.2f} AU\")\n",
    "print(f\"Konzervativna HZ za K2-24: {hz_con_k2[0]:.2f} - {hz_con_k2[1]:.2f} AU\")\n",
    "print(f\" - K2-24 b na {a_k2b.to(u.AU):.3f} nije ni u jednoj HZ.\")\n",
    "print(f\" - K2-24 c na {a_k2c.to(u.AU):.3f} nije ni u jednoj HZ.\")"
   ]
  },
  {
   "cell_type": "markdown",
   "id": "98ea3497",
   "metadata": {},
   "source": [
    "Na osnovu svih ovih izračunavanja je jasno da se, osim Zemlje, nijedna od analiziranih planeta ne nalazi u habitabilnoj zoni svoje zvezde, niti poseduje osnovne karakteristike za razvoj života."
   ]
  }
 ],
 "metadata": {
  "kernelspec": {
   "display_name": "Python 3",
   "language": "python",
   "name": "python3"
  },
  "language_info": {
   "codemirror_mode": {
    "name": "ipython",
    "version": 3
   },
   "file_extension": ".py",
   "mimetype": "text/x-python",
   "name": "python",
   "nbconvert_exporter": "python",
   "pygments_lexer": "ipython3",
   "version": "3.13.6"
  }
 },
 "nbformat": 4,
 "nbformat_minor": 5
}
